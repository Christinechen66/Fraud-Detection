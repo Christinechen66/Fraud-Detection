{
  "nbformat": 4,
  "nbformat_minor": 0,
  "metadata": {
    "colab": {
      "name": "Fraud data detection_Creditcard_Data_python3.ipynb",
      "provenance": [],
      "collapsed_sections": [],
      "include_colab_link": true
    },
    "kernelspec": {
      "name": "python3",
      "display_name": "Python 3"
    }
  },
  "cells": [
    {
      "cell_type": "markdown",
      "metadata": {
        "id": "view-in-github",
        "colab_type": "text"
      },
      "source": [
        "<a href=\"https://colab.research.google.com/github/Christinechen66/Fraud_Detection/blob/main/Fraud_data_detection_Creditcard_Data_python3.ipynb\" target=\"_parent\"><img src=\"https://colab.research.google.com/assets/colab-badge.svg\" alt=\"Open In Colab\"/></a>"
      ]
    },
    {
      "cell_type": "markdown",
      "metadata": {
        "id": "7e3W6bZoA8E3"
      },
      "source": [
        "\n",
        "It is important that credit card companies are able to recognize fraudulent credit card transactions so that customers are not charged for items that they did not purchase.\n",
        "\n"
      ]
    },
    {
      "cell_type": "code",
      "metadata": {
        "id": "Ot7ZHfdC9tEa"
      },
      "source": [
        "import matplotlib.pyplot as plt\n",
        "import seaborn as sns, numpy as np\n",
        "\n",
        "from numpy import genfromtxt\n",
        "from scipy.stats import multivariate_normal\n",
        "from sklearn.metrics import f1_score\n",
        "import io\n",
        "import pandas as pd\n",
        "from sklearn.model_selection import train_test_split\n",
        "from sklearn.metrics import f1_score, roc_auc_score, roc_curve, precision_recall_curve, auc, make_scorer, recall_score, accuracy_score, precision_score, confusion_matrix\n"
      ],
      "execution_count": 1,
      "outputs": []
    },
    {
      "cell_type": "markdown",
      "metadata": {
        "id": "JoyZxvFs0NQt"
      },
      "source": [
        "# Data Import"
      ]
    },
    {
      "cell_type": "code",
      "metadata": {
        "id": "1m3Ou494BtEW",
        "outputId": "a8b005ea-9abc-45c5-a4c7-d34438d5010f",
        "colab": {
          "base_uri": "https://localhost:8080/",
          "height": 34
        }
      },
      "source": [
        "# method 1: save the data in https://drive.google.com/drive/folders/1h7dB3SLd6HYJAisALnMax28r1idDS-N6 to your own google drive: \n",
        "# create a folder: fraudData in https://drive.google.com/drive/u/0/my-drive (the home folder of gDrive is: My Drive), put the file: creditcard.csv in folder fraudData\n",
        "# then follow Garima Jain in https://stackoverflow.com/questions/48340341/read-csv-to-dataframe-in-google-colab\n",
        "\n",
        "# Load the Drive helper and mount\n",
        "from google.colab import drive\n",
        "\n",
        "# This will prompt for authorization.\n",
        "drive.mount('/content/drive')"
      ],
      "execution_count": 2,
      "outputs": [
        {
          "output_type": "stream",
          "text": [
            "Mounted at /content/drive\n"
          ],
          "name": "stdout"
        }
      ]
    },
    {
      "cell_type": "code",
      "metadata": {
        "id": "fLDTexCfACAN",
        "outputId": "301d3ad0-62ec-443b-9a4f-bf7517c127fc",
        "colab": {
          "base_uri": "https://localhost:8080/",
          "height": 34
        }
      },
      "source": [
        "!ls \"/content/drive/My Drive/Colab Notebooks/creditcard.csv\""
      ],
      "execution_count": 3,
      "outputs": [
        {
          "output_type": "stream",
          "text": [
            "'/content/drive/My Drive/Colab Notebooks/creditcard.csv'\n"
          ],
          "name": "stdout"
        }
      ]
    },
    {
      "cell_type": "code",
      "metadata": {
        "id": "PmuK3QLcFieZ",
        "outputId": "83b7e640-59bb-432c-b6a5-2c9609ff8437",
        "colab": {
          "base_uri": "https://localhost:8080/",
          "height": 34
        }
      },
      "source": [
        "from google.colab import drive\n",
        "drive.mount('/content/drive')"
      ],
      "execution_count": 4,
      "outputs": [
        {
          "output_type": "stream",
          "text": [
            "Drive already mounted at /content/drive; to attempt to forcibly remount, call drive.mount(\"/content/drive\", force_remount=True).\n"
          ],
          "name": "stdout"
        }
      ]
    },
    {
      "cell_type": "code",
      "metadata": {
        "id": "hAsrQUiLBFd4",
        "outputId": "da6f9140-5148-427c-cb19-e30353499770",
        "colab": {
          "base_uri": "https://localhost:8080/",
          "height": 224
        }
      },
      "source": [
        "creditcardDF = pd.read_csv('/content/drive/My Drive/Colab Notebooks/creditcard.csv') #much faster once saved in drive\n",
        "creditcardDF.head()#all numerical"
      ],
      "execution_count": 8,
      "outputs": [
        {
          "output_type": "execute_result",
          "data": {
            "text/html": [
              "<div>\n",
              "<style scoped>\n",
              "    .dataframe tbody tr th:only-of-type {\n",
              "        vertical-align: middle;\n",
              "    }\n",
              "\n",
              "    .dataframe tbody tr th {\n",
              "        vertical-align: top;\n",
              "    }\n",
              "\n",
              "    .dataframe thead th {\n",
              "        text-align: right;\n",
              "    }\n",
              "</style>\n",
              "<table border=\"1\" class=\"dataframe\">\n",
              "  <thead>\n",
              "    <tr style=\"text-align: right;\">\n",
              "      <th></th>\n",
              "      <th>Time</th>\n",
              "      <th>V1</th>\n",
              "      <th>V2</th>\n",
              "      <th>V3</th>\n",
              "      <th>V4</th>\n",
              "      <th>V5</th>\n",
              "      <th>V6</th>\n",
              "      <th>V7</th>\n",
              "      <th>V8</th>\n",
              "      <th>V9</th>\n",
              "      <th>V10</th>\n",
              "      <th>V11</th>\n",
              "      <th>V12</th>\n",
              "      <th>V13</th>\n",
              "      <th>V14</th>\n",
              "      <th>V15</th>\n",
              "      <th>V16</th>\n",
              "      <th>V17</th>\n",
              "      <th>V18</th>\n",
              "      <th>V19</th>\n",
              "      <th>V20</th>\n",
              "      <th>V21</th>\n",
              "      <th>V22</th>\n",
              "      <th>V23</th>\n",
              "      <th>V24</th>\n",
              "      <th>V25</th>\n",
              "      <th>V26</th>\n",
              "      <th>V27</th>\n",
              "      <th>V28</th>\n",
              "      <th>Amount</th>\n",
              "      <th>Class</th>\n",
              "    </tr>\n",
              "  </thead>\n",
              "  <tbody>\n",
              "    <tr>\n",
              "      <th>0</th>\n",
              "      <td>0.0</td>\n",
              "      <td>-1.359807</td>\n",
              "      <td>-0.072781</td>\n",
              "      <td>2.536347</td>\n",
              "      <td>1.378155</td>\n",
              "      <td>-0.338321</td>\n",
              "      <td>0.462388</td>\n",
              "      <td>0.239599</td>\n",
              "      <td>0.098698</td>\n",
              "      <td>0.363787</td>\n",
              "      <td>0.090794</td>\n",
              "      <td>-0.551600</td>\n",
              "      <td>-0.617801</td>\n",
              "      <td>-0.991390</td>\n",
              "      <td>-0.311169</td>\n",
              "      <td>1.468177</td>\n",
              "      <td>-0.470401</td>\n",
              "      <td>0.207971</td>\n",
              "      <td>0.025791</td>\n",
              "      <td>0.403993</td>\n",
              "      <td>0.251412</td>\n",
              "      <td>-0.018307</td>\n",
              "      <td>0.277838</td>\n",
              "      <td>-0.110474</td>\n",
              "      <td>0.066928</td>\n",
              "      <td>0.128539</td>\n",
              "      <td>-0.189115</td>\n",
              "      <td>0.133558</td>\n",
              "      <td>-0.021053</td>\n",
              "      <td>149.62</td>\n",
              "      <td>0</td>\n",
              "    </tr>\n",
              "    <tr>\n",
              "      <th>1</th>\n",
              "      <td>0.0</td>\n",
              "      <td>1.191857</td>\n",
              "      <td>0.266151</td>\n",
              "      <td>0.166480</td>\n",
              "      <td>0.448154</td>\n",
              "      <td>0.060018</td>\n",
              "      <td>-0.082361</td>\n",
              "      <td>-0.078803</td>\n",
              "      <td>0.085102</td>\n",
              "      <td>-0.255425</td>\n",
              "      <td>-0.166974</td>\n",
              "      <td>1.612727</td>\n",
              "      <td>1.065235</td>\n",
              "      <td>0.489095</td>\n",
              "      <td>-0.143772</td>\n",
              "      <td>0.635558</td>\n",
              "      <td>0.463917</td>\n",
              "      <td>-0.114805</td>\n",
              "      <td>-0.183361</td>\n",
              "      <td>-0.145783</td>\n",
              "      <td>-0.069083</td>\n",
              "      <td>-0.225775</td>\n",
              "      <td>-0.638672</td>\n",
              "      <td>0.101288</td>\n",
              "      <td>-0.339846</td>\n",
              "      <td>0.167170</td>\n",
              "      <td>0.125895</td>\n",
              "      <td>-0.008983</td>\n",
              "      <td>0.014724</td>\n",
              "      <td>2.69</td>\n",
              "      <td>0</td>\n",
              "    </tr>\n",
              "    <tr>\n",
              "      <th>2</th>\n",
              "      <td>1.0</td>\n",
              "      <td>-1.358354</td>\n",
              "      <td>-1.340163</td>\n",
              "      <td>1.773209</td>\n",
              "      <td>0.379780</td>\n",
              "      <td>-0.503198</td>\n",
              "      <td>1.800499</td>\n",
              "      <td>0.791461</td>\n",
              "      <td>0.247676</td>\n",
              "      <td>-1.514654</td>\n",
              "      <td>0.207643</td>\n",
              "      <td>0.624501</td>\n",
              "      <td>0.066084</td>\n",
              "      <td>0.717293</td>\n",
              "      <td>-0.165946</td>\n",
              "      <td>2.345865</td>\n",
              "      <td>-2.890083</td>\n",
              "      <td>1.109969</td>\n",
              "      <td>-0.121359</td>\n",
              "      <td>-2.261857</td>\n",
              "      <td>0.524980</td>\n",
              "      <td>0.247998</td>\n",
              "      <td>0.771679</td>\n",
              "      <td>0.909412</td>\n",
              "      <td>-0.689281</td>\n",
              "      <td>-0.327642</td>\n",
              "      <td>-0.139097</td>\n",
              "      <td>-0.055353</td>\n",
              "      <td>-0.059752</td>\n",
              "      <td>378.66</td>\n",
              "      <td>0</td>\n",
              "    </tr>\n",
              "    <tr>\n",
              "      <th>3</th>\n",
              "      <td>1.0</td>\n",
              "      <td>-0.966272</td>\n",
              "      <td>-0.185226</td>\n",
              "      <td>1.792993</td>\n",
              "      <td>-0.863291</td>\n",
              "      <td>-0.010309</td>\n",
              "      <td>1.247203</td>\n",
              "      <td>0.237609</td>\n",
              "      <td>0.377436</td>\n",
              "      <td>-1.387024</td>\n",
              "      <td>-0.054952</td>\n",
              "      <td>-0.226487</td>\n",
              "      <td>0.178228</td>\n",
              "      <td>0.507757</td>\n",
              "      <td>-0.287924</td>\n",
              "      <td>-0.631418</td>\n",
              "      <td>-1.059647</td>\n",
              "      <td>-0.684093</td>\n",
              "      <td>1.965775</td>\n",
              "      <td>-1.232622</td>\n",
              "      <td>-0.208038</td>\n",
              "      <td>-0.108300</td>\n",
              "      <td>0.005274</td>\n",
              "      <td>-0.190321</td>\n",
              "      <td>-1.175575</td>\n",
              "      <td>0.647376</td>\n",
              "      <td>-0.221929</td>\n",
              "      <td>0.062723</td>\n",
              "      <td>0.061458</td>\n",
              "      <td>123.50</td>\n",
              "      <td>0</td>\n",
              "    </tr>\n",
              "    <tr>\n",
              "      <th>4</th>\n",
              "      <td>2.0</td>\n",
              "      <td>-1.158233</td>\n",
              "      <td>0.877737</td>\n",
              "      <td>1.548718</td>\n",
              "      <td>0.403034</td>\n",
              "      <td>-0.407193</td>\n",
              "      <td>0.095921</td>\n",
              "      <td>0.592941</td>\n",
              "      <td>-0.270533</td>\n",
              "      <td>0.817739</td>\n",
              "      <td>0.753074</td>\n",
              "      <td>-0.822843</td>\n",
              "      <td>0.538196</td>\n",
              "      <td>1.345852</td>\n",
              "      <td>-1.119670</td>\n",
              "      <td>0.175121</td>\n",
              "      <td>-0.451449</td>\n",
              "      <td>-0.237033</td>\n",
              "      <td>-0.038195</td>\n",
              "      <td>0.803487</td>\n",
              "      <td>0.408542</td>\n",
              "      <td>-0.009431</td>\n",
              "      <td>0.798278</td>\n",
              "      <td>-0.137458</td>\n",
              "      <td>0.141267</td>\n",
              "      <td>-0.206010</td>\n",
              "      <td>0.502292</td>\n",
              "      <td>0.219422</td>\n",
              "      <td>0.215153</td>\n",
              "      <td>69.99</td>\n",
              "      <td>0</td>\n",
              "    </tr>\n",
              "  </tbody>\n",
              "</table>\n",
              "</div>"
            ],
            "text/plain": [
              "   Time        V1        V2        V3  ...       V27       V28  Amount  Class\n",
              "0   0.0 -1.359807 -0.072781  2.536347  ...  0.133558 -0.021053  149.62      0\n",
              "1   0.0  1.191857  0.266151  0.166480  ... -0.008983  0.014724    2.69      0\n",
              "2   1.0 -1.358354 -1.340163  1.773209  ... -0.055353 -0.059752  378.66      0\n",
              "3   1.0 -0.966272 -0.185226  1.792993  ...  0.062723  0.061458  123.50      0\n",
              "4   2.0 -1.158233  0.877737  1.548718  ...  0.219422  0.215153   69.99      0\n",
              "\n",
              "[5 rows x 31 columns]"
            ]
          },
          "metadata": {
            "tags": []
          },
          "execution_count": 8
        }
      ]
    },
    {
      "cell_type": "code",
      "metadata": {
        "id": "cmbDYSzDHd1a",
        "outputId": "57b25088-6141-45ec-a055-ee95949c3f2c",
        "colab": {
          "base_uri": "https://localhost:8080/",
          "height": 68
        }
      },
      "source": [
        "#Distribution of the label column\n",
        "creditcardDF['Class'].value_counts()"
      ],
      "execution_count": 9,
      "outputs": [
        {
          "output_type": "execute_result",
          "data": {
            "text/plain": [
              "0    284315\n",
              "1       492\n",
              "Name: Class, dtype: int64"
            ]
          },
          "metadata": {
            "tags": []
          },
          "execution_count": 9
        }
      ]
    },
    {
      "cell_type": "code",
      "metadata": {
        "id": "YRXR-vc1JJ3m",
        "outputId": "87e1c4c5-c980-4f41-a9b0-961133ef7f98",
        "colab": {
          "base_uri": "https://localhost:8080/",
          "height": 34
        }
      },
      "source": [
        "492 / (284315  + 492) #<0.2 percent"
      ],
      "execution_count": 10,
      "outputs": [
        {
          "output_type": "execute_result",
          "data": {
            "text/plain": [
              "0.001727485630620034"
            ]
          },
          "metadata": {
            "tags": []
          },
          "execution_count": 10
        }
      ]
    },
    {
      "cell_type": "code",
      "metadata": {
        "id": "fZLQtN8uIQp8",
        "outputId": "4abc1c6e-ef88-4d9e-9f08-8273b17822da",
        "colab": {
          "base_uri": "https://localhost:8080/",
          "height": 34
        }
      },
      "source": [
        "creditcardDF.shape"
      ],
      "execution_count": 11,
      "outputs": [
        {
          "output_type": "execute_result",
          "data": {
            "text/plain": [
              "(284807, 31)"
            ]
          },
          "metadata": {
            "tags": []
          },
          "execution_count": 11
        }
      ]
    },
    {
      "cell_type": "code",
      "metadata": {
        "id": "q2hF4Q5st6Ji",
        "outputId": "149831ae-d16a-4502-8eaa-ef3630563c6d",
        "colab": {
          "base_uri": "https://localhost:8080/",
          "height": 561
        }
      },
      "source": [
        "creditcardDF.isna().sum()#null checking"
      ],
      "execution_count": 12,
      "outputs": [
        {
          "output_type": "execute_result",
          "data": {
            "text/plain": [
              "Time      0\n",
              "V1        0\n",
              "V2        0\n",
              "V3        0\n",
              "V4        0\n",
              "V5        0\n",
              "V6        0\n",
              "V7        0\n",
              "V8        0\n",
              "V9        0\n",
              "V10       0\n",
              "V11       0\n",
              "V12       0\n",
              "V13       0\n",
              "V14       0\n",
              "V15       0\n",
              "V16       0\n",
              "V17       0\n",
              "V18       0\n",
              "V19       0\n",
              "V20       0\n",
              "V21       0\n",
              "V22       0\n",
              "V23       0\n",
              "V24       0\n",
              "V25       0\n",
              "V26       0\n",
              "V27       0\n",
              "V28       0\n",
              "Amount    0\n",
              "Class     0\n",
              "dtype: int64"
            ]
          },
          "metadata": {
            "tags": []
          },
          "execution_count": 12
        }
      ]
    },
    {
      "cell_type": "code",
      "metadata": {
        "id": "h_wWarLPuQ5v",
        "outputId": "d550b936-ba9a-4a11-e45c-0c5ace32759b",
        "colab": {
          "base_uri": "https://localhost:8080/",
          "height": 361
        }
      },
      "source": [
        "sns.distplot(creditcardDF['Time'])"
      ],
      "execution_count": 13,
      "outputs": [
        {
          "output_type": "stream",
          "text": [
            "/usr/local/lib/python3.6/dist-packages/seaborn/distributions.py:2551: FutureWarning: `distplot` is a deprecated function and will be removed in a future version. Please adapt your code to use either `displot` (a figure-level function with similar flexibility) or `histplot` (an axes-level function for histograms).\n",
            "  warnings.warn(msg, FutureWarning)\n"
          ],
          "name": "stderr"
        },
        {
          "output_type": "execute_result",
          "data": {
            "text/plain": [
              "<matplotlib.axes._subplots.AxesSubplot at 0x7f042128d9b0>"
            ]
          },
          "metadata": {
            "tags": []
          },
          "execution_count": 13
        },
        {
          "output_type": "display_data",
          "data": {
            "image/png": "[encoded data removed]",
            "text/plain": [
              "<Figure size 432x288 with 1 Axes>"
            ]
          },
          "metadata": {
            "tags": [],
            "needs_background": "light"
          }
        }
      ]
    },
    {
      "cell_type": "code",
      "metadata": {
        "id": "_s5s4tUSuQm9",
        "outputId": "bd014ff1-a37a-47a7-e217-025d1a36dd21",
        "colab": {
          "base_uri": "https://localhost:8080/",
          "height": 350
        }
      },
      "source": [
        "sns.distplot(creditcardDF['Amount'])"
      ],
      "execution_count": 14,
      "outputs": [
        {
          "output_type": "stream",
          "text": [
            "/usr/local/lib/python3.6/dist-packages/seaborn/distributions.py:2551: FutureWarning: `distplot` is a deprecated function and will be removed in a future version. Please adapt your code to use either `displot` (a figure-level function with similar flexibility) or `histplot` (an axes-level function for histograms).\n",
            "  warnings.warn(msg, FutureWarning)\n"
          ],
          "name": "stderr"
        },
        {
          "output_type": "execute_result",
          "data": {
            "text/plain": [
              "<matplotlib.axes._subplots.AxesSubplot at 0x7f04211fae48>"
            ]
          },
          "metadata": {
            "tags": []
          },
          "execution_count": 14
        },
        {
          "output_type": "display_data",
          "data": {
            "image/png": "[encoded data removed]",
            "text/plain": [
              "<Figure size 432x288 with 1 Axes>"
            ]
          },
          "metadata": {
            "tags": [],
            "needs_background": "light"
          }
        }
      ]
    },
    {
      "cell_type": "code",
      "metadata": {
        "id": "C1lrJCCou_Bo",
        "outputId": "fc35a258-4285-4ebc-8408-1e898e6f8caa",
        "colab": {
          "base_uri": "https://localhost:8080/",
          "height": 68
        }
      },
      "source": [
        "creditcardDF['Amount'] = np.log(creditcardDF['Amount'] + 1)\n",
        "creditcardDF['Time'] = np.log(creditcardDF['Time'] + 1)\n",
        "normal = creditcardDF[creditcardDF['Class'] == 0]\n",
        "anomaly = creditcardDF[creditcardDF['Class'] == 1]\n",
        "\n",
        "train, test = train_test_split(normal, test_size=0.2, random_state=0)\n",
        "normal_valid, normal_test = train_test_split(test, test_size=0.5, random_state=0)#all normal/good\n",
        "anomaly_valid, anomaly_test = train_test_split(anomaly, test_size=0.5, random_state=0)#all anomaly/bad\n",
        "\n",
        "validation = pd.concat([normal_valid, anomaly_valid])#include both good and bad\n",
        "test = pd.concat([normal_test, anomaly_test])#include both good and bad\n",
        "\n",
        "\n",
        "print(validation.shape)\n",
        "print(test.shape)\n",
        "\n",
        "train = train.drop(columns = ['Class']).reset_index(drop= True)#no need of label in train data, drop it\n",
        "print(train.shape)"
      ],
      "execution_count": 15,
      "outputs": [
        {
          "output_type": "stream",
          "text": [
            "(28677, 31)\n",
            "(28678, 31)\n",
            "(227452, 30)\n"
          ],
          "name": "stdout"
        }
      ]
    },
    {
      "cell_type": "code",
      "metadata": {
        "id": "tb6GZTYC9O97"
      },
      "source": [
        "featureNames = list(train.columns.values)#feature names only, no label\n",
        "valFeatures = validation[featureNames].reset_index(drop= True)#feature df only, no label\n",
        "testFeatures = test[featureNames].reset_index(drop= True)#feature df only, no label\n",
        "\n",
        "valLabel = validation['Class']#label df only\n",
        "testLabel = test['Class']#label df only"
      ],
      "execution_count": 16,
      "outputs": []
    },
    {
      "cell_type": "code",
      "metadata": {
        "id": "jW20aYtk3lo1",
        "outputId": "507b9ecb-a98e-4420-d441-fcab214e3497",
        "colab": {
          "base_uri": "https://localhost:8080/",
          "height": 224
        }
      },
      "source": [
        "valFeatures.head()"
      ],
      "execution_count": 17,
      "outputs": [
        {
          "output_type": "execute_result",
          "data": {
            "text/html": [
              "<div>\n",
              "<style scoped>\n",
              "    .dataframe tbody tr th:only-of-type {\n",
              "        vertical-align: middle;\n",
              "    }\n",
              "\n",
              "    .dataframe tbody tr th {\n",
              "        vertical-align: top;\n",
              "    }\n",
              "\n",
              "    .dataframe thead th {\n",
              "        text-align: right;\n",
              "    }\n",
              "</style>\n",
              "<table border=\"1\" class=\"dataframe\">\n",
              "  <thead>\n",
              "    <tr style=\"text-align: right;\">\n",
              "      <th></th>\n",
              "      <th>Time</th>\n",
              "      <th>V1</th>\n",
              "      <th>V2</th>\n",
              "      <th>V3</th>\n",
              "      <th>V4</th>\n",
              "      <th>V5</th>\n",
              "      <th>V6</th>\n",
              "      <th>V7</th>\n",
              "      <th>V8</th>\n",
              "      <th>V9</th>\n",
              "      <th>V10</th>\n",
              "      <th>V11</th>\n",
              "      <th>V12</th>\n",
              "      <th>V13</th>\n",
              "      <th>V14</th>\n",
              "      <th>V15</th>\n",
              "      <th>V16</th>\n",
              "      <th>V17</th>\n",
              "      <th>V18</th>\n",
              "      <th>V19</th>\n",
              "      <th>V20</th>\n",
              "      <th>V21</th>\n",
              "      <th>V22</th>\n",
              "      <th>V23</th>\n",
              "      <th>V24</th>\n",
              "      <th>V25</th>\n",
              "      <th>V26</th>\n",
              "      <th>V27</th>\n",
              "      <th>V28</th>\n",
              "      <th>Amount</th>\n",
              "    </tr>\n",
              "  </thead>\n",
              "  <tbody>\n",
              "    <tr>\n",
              "      <th>0</th>\n",
              "      <td>11.827043</td>\n",
              "      <td>-0.248023</td>\n",
              "      <td>1.259502</td>\n",
              "      <td>-0.993999</td>\n",
              "      <td>-1.587788</td>\n",
              "      <td>1.913462</td>\n",
              "      <td>-0.630270</td>\n",
              "      <td>1.958852</td>\n",
              "      <td>-0.659274</td>\n",
              "      <td>0.002373</td>\n",
              "      <td>0.718353</td>\n",
              "      <td>0.474332</td>\n",
              "      <td>0.297023</td>\n",
              "      <td>-0.025971</td>\n",
              "      <td>0.256813</td>\n",
              "      <td>-0.730278</td>\n",
              "      <td>-0.479395</td>\n",
              "      <td>-1.145347</td>\n",
              "      <td>0.234891</td>\n",
              "      <td>0.351396</td>\n",
              "      <td>0.396605</td>\n",
              "      <td>0.089915</td>\n",
              "      <td>0.896611</td>\n",
              "      <td>-0.367547</td>\n",
              "      <td>0.143515</td>\n",
              "      <td>-0.177558</td>\n",
              "      <td>0.025269</td>\n",
              "      <td>0.271419</td>\n",
              "      <td>-0.066416</td>\n",
              "      <td>0.920283</td>\n",
              "    </tr>\n",
              "    <tr>\n",
              "      <th>1</th>\n",
              "      <td>10.809566</td>\n",
              "      <td>-1.614505</td>\n",
              "      <td>-0.970137</td>\n",
              "      <td>1.730517</td>\n",
              "      <td>-1.715497</td>\n",
              "      <td>-0.869271</td>\n",
              "      <td>-0.171355</td>\n",
              "      <td>1.216768</td>\n",
              "      <td>-0.031314</td>\n",
              "      <td>0.992762</td>\n",
              "      <td>-2.191051</td>\n",
              "      <td>-1.019348</td>\n",
              "      <td>0.600947</td>\n",
              "      <td>0.821185</td>\n",
              "      <td>-0.477250</td>\n",
              "      <td>0.612733</td>\n",
              "      <td>-0.092783</td>\n",
              "      <td>-0.664174</td>\n",
              "      <td>0.643702</td>\n",
              "      <td>-0.047904</td>\n",
              "      <td>0.831753</td>\n",
              "      <td>0.408654</td>\n",
              "      <td>0.630537</td>\n",
              "      <td>0.382848</td>\n",
              "      <td>-0.110627</td>\n",
              "      <td>0.906539</td>\n",
              "      <td>-0.618206</td>\n",
              "      <td>-0.026364</td>\n",
              "      <td>0.104561</td>\n",
              "      <td>5.874931</td>\n",
              "    </tr>\n",
              "    <tr>\n",
              "      <th>2</th>\n",
              "      <td>11.340380</td>\n",
              "      <td>1.106176</td>\n",
              "      <td>0.148096</td>\n",
              "      <td>0.424489</td>\n",
              "      <td>1.282916</td>\n",
              "      <td>-0.080275</td>\n",
              "      <td>0.146526</td>\n",
              "      <td>-0.007108</td>\n",
              "      <td>0.114953</td>\n",
              "      <td>-0.004731</td>\n",
              "      <td>0.033642</td>\n",
              "      <td>1.200830</td>\n",
              "      <td>1.342878</td>\n",
              "      <td>0.018898</td>\n",
              "      <td>0.217944</td>\n",
              "      <td>-0.819673</td>\n",
              "      <td>-0.536572</td>\n",
              "      <td>-0.000444</td>\n",
              "      <td>-0.509860</td>\n",
              "      <td>-0.081917</td>\n",
              "      <td>-0.148073</td>\n",
              "      <td>-0.042488</td>\n",
              "      <td>0.071593</td>\n",
              "      <td>-0.085294</td>\n",
              "      <td>0.032780</td>\n",
              "      <td>0.637894</td>\n",
              "      <td>-0.331179</td>\n",
              "      <td>0.036130</td>\n",
              "      <td>0.007639</td>\n",
              "      <td>2.866193</td>\n",
              "    </tr>\n",
              "    <tr>\n",
              "      <th>3</th>\n",
              "      <td>11.321208</td>\n",
              "      <td>-1.791995</td>\n",
              "      <td>1.102738</td>\n",
              "      <td>0.324217</td>\n",
              "      <td>1.082267</td>\n",
              "      <td>-0.303348</td>\n",
              "      <td>-1.050303</td>\n",
              "      <td>0.066270</td>\n",
              "      <td>0.613586</td>\n",
              "      <td>-0.720545</td>\n",
              "      <td>-0.232754</td>\n",
              "      <td>-0.741686</td>\n",
              "      <td>0.317251</td>\n",
              "      <td>0.404740</td>\n",
              "      <td>0.810007</td>\n",
              "      <td>0.990986</td>\n",
              "      <td>-0.069383</td>\n",
              "      <td>0.096501</td>\n",
              "      <td>0.143086</td>\n",
              "      <td>0.447363</td>\n",
              "      <td>-0.285331</td>\n",
              "      <td>0.151935</td>\n",
              "      <td>0.514245</td>\n",
              "      <td>0.290932</td>\n",
              "      <td>0.403345</td>\n",
              "      <td>-0.064118</td>\n",
              "      <td>-0.318054</td>\n",
              "      <td>0.021940</td>\n",
              "      <td>0.013401</td>\n",
              "      <td>3.432373</td>\n",
              "    </tr>\n",
              "    <tr>\n",
              "      <th>4</th>\n",
              "      <td>11.956784</td>\n",
              "      <td>1.924286</td>\n",
              "      <td>0.324362</td>\n",
              "      <td>-0.734639</td>\n",
              "      <td>3.370481</td>\n",
              "      <td>0.783552</td>\n",
              "      <td>1.224944</td>\n",
              "      <td>-0.298881</td>\n",
              "      <td>0.291717</td>\n",
              "      <td>-0.790152</td>\n",
              "      <td>1.592072</td>\n",
              "      <td>-0.561561</td>\n",
              "      <td>-0.101690</td>\n",
              "      <td>-0.249445</td>\n",
              "      <td>0.233490</td>\n",
              "      <td>-1.160360</td>\n",
              "      <td>1.566431</td>\n",
              "      <td>-1.480919</td>\n",
              "      <td>0.594003</td>\n",
              "      <td>-0.903739</td>\n",
              "      <td>-0.227395</td>\n",
              "      <td>-0.022543</td>\n",
              "      <td>-0.115448</td>\n",
              "      <td>0.143200</td>\n",
              "      <td>-0.357497</td>\n",
              "      <td>-0.109288</td>\n",
              "      <td>-0.105516</td>\n",
              "      <td>-0.025440</td>\n",
              "      <td>-0.050761</td>\n",
              "      <td>2.572612</td>\n",
              "    </tr>\n",
              "  </tbody>\n",
              "</table>\n",
              "</div>"
            ],
            "text/plain": [
              "        Time        V1        V2  ...       V27       V28    Amount\n",
              "0  11.827043 -0.248023  1.259502  ...  0.271419 -0.066416  0.920283\n",
              "1  10.809566 -1.614505 -0.970137  ... -0.026364  0.104561  5.874931\n",
              "2  11.340380  1.106176  0.148096  ...  0.036130  0.007639  2.866193\n",
              "3  11.321208 -1.791995  1.102738  ...  0.021940  0.013401  3.432373\n",
              "4  11.956784  1.924286  0.324362  ... -0.025440 -0.050761  2.572612\n",
              "\n",
              "[5 rows x 30 columns]"
            ]
          },
          "metadata": {
            "tags": []
          },
          "execution_count": 17
        }
      ]
    },
    {
      "cell_type": "code",
      "metadata": {
        "id": "yFURxHtfu-cv",
        "outputId": "b6bea208-60e6-4fa9-8a28-232d0cbef083",
        "colab": {
          "base_uri": "https://localhost:8080/",
          "height": 68
        }
      },
      "source": [
        "validation['Class'].value_counts()"
      ],
      "execution_count": 18,
      "outputs": [
        {
          "output_type": "execute_result",
          "data": {
            "text/plain": [
              "0    28431\n",
              "1      246\n",
              "Name: Class, dtype: int64"
            ]
          },
          "metadata": {
            "tags": []
          },
          "execution_count": 18
        }
      ]
    },
    {
      "cell_type": "code",
      "metadata": {
        "id": "01oHXvrc4xEz",
        "outputId": "33e8a5f0-6b6d-440e-bfdf-90810a3650c8",
        "colab": {
          "base_uri": "https://localhost:8080/",
          "height": 68
        }
      },
      "source": [
        "test['Class'].value_counts()"
      ],
      "execution_count": 19,
      "outputs": [
        {
          "output_type": "execute_result",
          "data": {
            "text/plain": [
              "0    28432\n",
              "1      246\n",
              "Name: Class, dtype: int64"
            ]
          },
          "metadata": {
            "tags": []
          },
          "execution_count": 19
        }
      ]
    },
    {
      "cell_type": "code",
      "metadata": {
        "id": "uC4U5x8f_fIu",
        "outputId": "039b62a8-5405-4c4a-90c1-4c54e8f8f601",
        "colab": {
          "base_uri": "https://localhost:8080/",
          "height": 295
        }
      },
      "source": [
        "plt.figure()\n",
        "plt.title(\"train data of V1 and V2\")#may contain outliers\n",
        "plt.xlabel(\"V1\")\n",
        "plt.ylabel(\"V2\")\n",
        "plt.plot(train.iloc[:, 1],train.iloc[:,2],\"bx\")\n",
        "plt.show()"
      ],
      "execution_count": 20,
      "outputs": [
        {
          "output_type": "display_data",
          "data": {
            "image/png": "[encoded data removed]",
            "text/plain": [
              "<Figure size 432x288 with 1 Axes>"
            ]
          },
          "metadata": {
            "tags": [],
            "needs_background": "light"
          }
        }
      ]
    },
    {
      "cell_type": "code",
      "metadata": {
        "id": "ClT7DCgz_hZ5",
        "outputId": "53c7777d-5758-4d62-f75f-e645eeb53fa0",
        "colab": {
          "base_uri": "https://localhost:8080/",
          "height": 295
        }
      },
      "source": [
        "plt.figure()\n",
        "plt.title(\"validation data of V1 and V2\")\n",
        "plt.xlabel(\"V1\")\n",
        "plt.ylabel(\"V2\")\n",
        "plt.plot(validation.iloc[:, 1],validation.iloc[:,2],\"bx\")\n",
        "plt.show()"
      ],
      "execution_count": 21,
      "outputs": [
        {
          "output_type": "display_data",
          "data": {
            "image/png": "[encoded data removed]",
            "text/plain": [
              "<Figure size 432x288 with 1 Axes>"
            ]
          },
          "metadata": {
            "tags": [],
            "needs_background": "light"
          }
        }
      ]
    },
    {
      "cell_type": "code",
      "metadata": {
        "id": "xS8r6bm1_lTB",
        "outputId": "4809d7a8-986d-4fe8-b825-d541537fbd28",
        "colab": {
          "base_uri": "https://localhost:8080/",
          "height": 295
        }
      },
      "source": [
        "plt.figure()\n",
        "plt.title(\"test data of V1 and V2\")\n",
        "plt.xlabel(\"V1\")\n",
        "plt.ylabel(\"V2\")\n",
        "plt.plot(test.iloc[:, 1],test.iloc[:,2],\"bx\")\n",
        "plt.show()"
      ],
      "execution_count": 22,
      "outputs": [
        {
          "output_type": "display_data",
          "data": {
            "image/png": "[encoded data removed]",
            "text/plain": [
              "<Figure size 432x288 with 1 Axes>"
            ]
          },
          "metadata": {
            "tags": [],
            "needs_background": "light"
          }
        }
      ]
    },
    {
      "cell_type": "code",
      "metadata": {
        "id": "gX9Auo2Y_vrG",
        "outputId": "a79de01f-bd9e-49e5-bfad-27bec4a8e830",
        "colab": {
          "base_uri": "https://localhost:8080/",
          "height": 34
        }
      },
      "source": [
        "np.arange(1, 20, 2)"
      ],
      "execution_count": 23,
      "outputs": [
        {
          "output_type": "execute_result",
          "data": {
            "text/plain": [
              "array([ 1,  3,  5,  7,  9, 11, 13, 15, 17, 19])"
            ]
          },
          "metadata": {
            "tags": []
          },
          "execution_count": 23
        }
      ]
    },
    {
      "cell_type": "code",
      "metadata": {
        "id": "X7IkBlGp_xum"
      },
      "source": [
        "# def read_dataset(filePath, delimiter=','):\n",
        "#     return genfromtxt(filePath, delimiter=delimiter)\n",
        "\n",
        "#find parameter for each col/feature in df for the Gaussian distribution\n",
        "def estimateGaussian(dataset):\n",
        "    mu = np.mean(dataset, axis=0)\n",
        "    sigma = np.cov(dataset.T)\n",
        "    return mu, sigma\n"
      ],
      "execution_count": 24,
      "outputs": []
    },
    {
      "cell_type": "code",
      "metadata": {
        "id": "86g-XAQb-Upk",
        "outputId": "d72fc760-04ea-41c0-8879-929649433454",
        "colab": {
          "base_uri": "https://localhost:8080/",
          "height": 34
        }
      },
      "source": [
        "#https://docs.scipy.org/doc/numpy/reference/generated/numpy.linspace.html\n",
        "#Return evenly spaced numbers over a specified interval.\n",
        "np.linspace(1, 21,10, endpoint = False)"
      ],
      "execution_count": 25,
      "outputs": [
        {
          "output_type": "execute_result",
          "data": {
            "text/plain": [
              "array([ 1.,  3.,  5.,  7.,  9., 11., 13., 15., 17., 19.])"
            ]
          },
          "metadata": {
            "tags": []
          },
          "execution_count": 25
        }
      ]
    },
    {
      "cell_type": "code",
      "metadata": {
        "id": "IM_7v2o4Wmah"
      },
      "source": [
        "#step 1: model training\n",
        "mu, sigma = estimateGaussian(train)\n",
        "\n",
        "#generate The probability density function/curve/surface/model for multivariate_normal given mean and cov \n",
        "model = multivariate_normal(mean=mu, cov=sigma, allow_singular = True)#surface hat\n"
      ],
      "execution_count": 26,
      "outputs": []
    },
    {
      "cell_type": "code",
      "metadata": {
        "id": "UZ63Z1kt6Urs",
        "outputId": "f0feb5a2-88f0-44f5-91ab-34d85345d86e",
        "colab": {
          "base_uri": "https://localhost:8080/",
          "height": 85
        }
      },
      "source": [
        "pdfVal = model.pdf(valFeatures)\n",
        "print(max(pdfVal))#too small, can not differentiate\n",
        "print(min(pdfVal))\n",
        "\n",
        "p_val = model.logpdf(valFeatures)#Log of the pdf first, then apply to features, to change the magnitude of prob\n",
        "print(max(p_val))#\n",
        "print(min(p_val))"
      ],
      "execution_count": 27,
      "outputs": [
        {
          "output_type": "stream",
          "text": [
            "3.936022689247968e-12\n",
            "0.0\n",
            "-26.26085037221045\n",
            "-7554.270217704667\n"
          ],
          "name": "stdout"
        }
      ]
    },
    {
      "cell_type": "code",
      "metadata": {
        "id": "MLUcuuoaADXA",
        "outputId": "2f3c7661-5896-49ca-da68-4c3ed9ab7f70",
        "colab": {
          "base_uri": "https://localhost:8080/",
          "height": 51
        }
      },
      "source": [
        "p = model.logpdf(train)\n",
        "print(p.shape)\n",
        "print((p_val.shape))\n",
        "\n",
        "# print(p)\n"
      ],
      "execution_count": 28,
      "outputs": [
        {
          "output_type": "stream",
          "text": [
            "(227452,)\n",
            "(28677,)\n"
          ],
          "name": "stdout"
        }
      ]
    },
    {
      "cell_type": "code",
      "metadata": {
        "id": "bS1dGJNSX3ay",
        "outputId": "04077716-f5c5-489f-a093-1782f58ee5a2",
        "colab": {
          "base_uri": "https://localhost:8080/",
          "height": 68
        }
      },
      "source": [
        "print(p_val)\n",
        "print(p_val < -500)"
      ],
      "execution_count": 29,
      "outputs": [
        {
          "output_type": "stream",
          "text": [
            "[  -31.28574735   -34.94205051   -27.79402451 ... -5175.93656039\n",
            " -4545.5057626    -29.7152192 ]\n",
            "[False False False ...  True  True False]\n"
          ],
          "name": "stdout"
        }
      ]
    },
    {
      "cell_type": "code",
      "metadata": {
        "id": "8CbvIg7ZC5SP",
        "outputId": "aca93da1-1744-4e9f-e279-10f10cdaf415",
        "colab": {
          "base_uri": "https://localhost:8080/",
          "height": 88
        }
      },
      "source": [
        "scores = []\n",
        "p_val = model.logpdf(valFeatures)#Log of the pdf\n",
        "\n",
        "# thresholds = np.linspace(-1000, -10,150)\n",
        "thresholds = np.linspace(min(p_val), max(p_val),200)#generate all candidate threshold, epsilon\n",
        "\n",
        "#step 2: CV to find optimal threshold: bestThreshold\n",
        "for threshold in thresholds:\n",
        "  y_pred = (p_val < threshold).astype(int)# list of 0 and 1\n",
        "  #calculate recall, precision and f1 for each (truth, pred) pair, corresponding to that threshold\n",
        "  scores.append([recall_score(valLabel, y_pred),\n",
        "                 precision_score(valLabel, y_pred),\n",
        "                 f1_score(valLabel, y_pred, average = \"binary\")])\n",
        "\n",
        "scores = np.array(scores)\n",
        "maxIndex = scores[...,2].ravel().argmax()#maxIndex of the column 2(f1_score) #193\n",
        "bestThreshold = thresholds[maxIndex]\n",
        "print(scores.shape)#each row is a pair of (recall, precision, f1) corresponding to a threshold"
      ],
      "execution_count": 30,
      "outputs": [
        {
          "output_type": "stream",
          "text": [
            "/usr/local/lib/python3.6/dist-packages/sklearn/metrics/_classification.py:1272: UndefinedMetricWarning: Precision is ill-defined and being set to 0.0 due to no predicted samples. Use `zero_division` parameter to control this behavior.\n",
            "  _warn_prf(average, modifier, msg_start, len(result))\n"
          ],
          "name": "stderr"
        },
        {
          "output_type": "stream",
          "text": [
            "(200, 3)\n"
          ],
          "name": "stdout"
        }
      ]
    },
    {
      "cell_type": "code",
      "metadata": {
        "id": "YxGw0Xa7CQZw",
        "outputId": "a8f55d14-8841-4030-8b0f-157de0d5a4d2",
        "colab": {
          "base_uri": "https://localhost:8080/",
          "height": 1000
        }
      },
      "source": [
        "print(scores)"
      ],
      "execution_count": 31,
      "outputs": [
        {
          "output_type": "stream",
          "text": [
            "[[0.         0.         0.        ]\n",
            " [0.00406504 1.         0.00809717]\n",
            " [0.00406504 1.         0.00809717]\n",
            " [0.00406504 1.         0.00809717]\n",
            " [0.00406504 1.         0.00809717]\n",
            " [0.00406504 1.         0.00809717]\n",
            " [0.00406504 1.         0.00809717]\n",
            " [0.00406504 1.         0.00809717]\n",
            " [0.00406504 1.         0.00809717]\n",
            " [0.00406504 1.         0.00809717]\n",
            " [0.00406504 1.         0.00809717]\n",
            " [0.00406504 1.         0.00809717]\n",
            " [0.00406504 1.         0.00809717]\n",
            " [0.00406504 1.         0.00809717]\n",
            " [0.00406504 1.         0.00809717]\n",
            " [0.00406504 1.         0.00809717]\n",
            " [0.00406504 1.         0.00809717]\n",
            " [0.00406504 1.         0.00809717]\n",
            " [0.00406504 1.         0.00809717]\n",
            " [0.00406504 1.         0.00809717]\n",
            " [0.00406504 1.         0.00809717]\n",
            " [0.00406504 1.         0.00809717]\n",
            " [0.00406504 1.         0.00809717]\n",
            " [0.00813008 1.         0.01612903]\n",
            " [0.00813008 1.         0.01612903]\n",
            " [0.00813008 1.         0.01612903]\n",
            " [0.00813008 1.         0.01612903]\n",
            " [0.00813008 1.         0.01612903]\n",
            " [0.00813008 1.         0.01612903]\n",
            " [0.00813008 1.         0.01612903]\n",
            " [0.00813008 1.         0.01612903]\n",
            " [0.00813008 1.         0.01612903]\n",
            " [0.00813008 1.         0.01612903]\n",
            " [0.00813008 1.         0.01612903]\n",
            " [0.00813008 1.         0.01612903]\n",
            " [0.01219512 1.         0.02409639]\n",
            " [0.01219512 1.         0.02409639]\n",
            " [0.01219512 1.         0.02409639]\n",
            " [0.01219512 1.         0.02409639]\n",
            " [0.01219512 1.         0.02409639]\n",
            " [0.01219512 1.         0.02409639]\n",
            " [0.01626016 1.         0.032     ]\n",
            " [0.01626016 1.         0.032     ]\n",
            " [0.01626016 1.         0.032     ]\n",
            " [0.01626016 1.         0.032     ]\n",
            " [0.01626016 1.         0.032     ]\n",
            " [0.01626016 1.         0.032     ]\n",
            " [0.01626016 1.         0.032     ]\n",
            " [0.01626016 1.         0.032     ]\n",
            " [0.01626016 1.         0.032     ]\n",
            " [0.0203252  1.         0.03984064]\n",
            " [0.0203252  1.         0.03984064]\n",
            " [0.0203252  1.         0.03984064]\n",
            " [0.0203252  1.         0.03984064]\n",
            " [0.0203252  1.         0.03984064]\n",
            " [0.0203252  1.         0.03984064]\n",
            " [0.02439024 1.         0.04761905]\n",
            " [0.02845528 1.         0.05533597]\n",
            " [0.03658537 1.         0.07058824]\n",
            " [0.04471545 1.         0.08560311]\n",
            " [0.04471545 1.         0.08560311]\n",
            " [0.04471545 1.         0.08560311]\n",
            " [0.05284553 1.         0.1003861 ]\n",
            " [0.09756098 1.         0.17777778]\n",
            " [0.12601626 1.         0.22382671]\n",
            " [0.1300813  1.         0.23021583]\n",
            " [0.1300813  1.         0.23021583]\n",
            " [0.1300813  1.         0.23021583]\n",
            " [0.1300813  1.         0.23021583]\n",
            " [0.1300813  1.         0.23021583]\n",
            " [0.1300813  1.         0.23021583]\n",
            " [0.1300813  1.         0.23021583]\n",
            " [0.1300813  1.         0.23021583]\n",
            " [0.1300813  1.         0.23021583]\n",
            " [0.1300813  1.         0.23021583]\n",
            " [0.1300813  1.         0.23021583]\n",
            " [0.1300813  1.         0.23021583]\n",
            " [0.1300813  1.         0.23021583]\n",
            " [0.1300813  1.         0.23021583]\n",
            " [0.13414634 1.         0.23655914]\n",
            " [0.15853659 1.         0.27368421]\n",
            " [0.17479675 1.         0.29757785]\n",
            " [0.17479675 1.         0.29757785]\n",
            " [0.17479675 1.         0.29757785]\n",
            " [0.17479675 1.         0.29757785]\n",
            " [0.17479675 1.         0.29757785]\n",
            " [0.17479675 1.         0.29757785]\n",
            " [0.17479675 1.         0.29757785]\n",
            " [0.17479675 1.         0.29757785]\n",
            " [0.17479675 1.         0.29757785]\n",
            " [0.17479675 1.         0.29757785]\n",
            " [0.17479675 1.         0.29757785]\n",
            " [0.17479675 1.         0.29757785]\n",
            " [0.17479675 1.         0.29757785]\n",
            " [0.17479675 1.         0.29757785]\n",
            " [0.17479675 1.         0.29757785]\n",
            " [0.17479675 1.         0.29757785]\n",
            " [0.17886179 1.         0.30344828]\n",
            " [0.18292683 1.         0.30927835]\n",
            " [0.18699187 1.         0.31506849]\n",
            " [0.18699187 1.         0.31506849]\n",
            " [0.19512195 1.         0.32653061]\n",
            " [0.19918699 1.         0.33220339]\n",
            " [0.20325203 1.         0.33783784]\n",
            " [0.20731707 1.         0.34343434]\n",
            " [0.21544715 1.         0.35451505]\n",
            " [0.21544715 1.         0.35451505]\n",
            " [0.21544715 1.         0.35451505]\n",
            " [0.21544715 1.         0.35451505]\n",
            " [0.21544715 1.         0.35451505]\n",
            " [0.21544715 1.         0.35451505]\n",
            " [0.21544715 1.         0.35451505]\n",
            " [0.21544715 1.         0.35451505]\n",
            " [0.21544715 1.         0.35451505]\n",
            " [0.21544715 1.         0.35451505]\n",
            " [0.21544715 1.         0.35451505]\n",
            " [0.21544715 1.         0.35451505]\n",
            " [0.21544715 1.         0.35451505]\n",
            " [0.21544715 1.         0.35451505]\n",
            " [0.21544715 1.         0.35451505]\n",
            " [0.21544715 1.         0.35451505]\n",
            " [0.21544715 1.         0.35451505]\n",
            " [0.21544715 1.         0.35451505]\n",
            " [0.22764228 1.         0.37086093]\n",
            " [0.22764228 1.         0.37086093]\n",
            " [0.22764228 1.         0.37086093]\n",
            " [0.22764228 1.         0.37086093]\n",
            " [0.22764228 1.         0.37086093]\n",
            " [0.22764228 1.         0.37086093]\n",
            " [0.22764228 1.         0.37086093]\n",
            " [0.22764228 1.         0.37086093]\n",
            " [0.22764228 1.         0.37086093]\n",
            " [0.22764228 1.         0.37086093]\n",
            " [0.22764228 1.         0.37086093]\n",
            " [0.22764228 1.         0.37086093]\n",
            " [0.22764228 1.         0.37086093]\n",
            " [0.22764228 1.         0.37086093]\n",
            " [0.22764228 1.         0.37086093]\n",
            " [0.22764228 1.         0.37086093]\n",
            " [0.22764228 1.         0.37086093]\n",
            " [0.22764228 1.         0.37086093]\n",
            " [0.22764228 1.         0.37086093]\n",
            " [0.22764228 1.         0.37086093]\n",
            " [0.22764228 1.         0.37086093]\n",
            " [0.22764228 1.         0.37086093]\n",
            " [0.25203252 1.         0.4025974 ]\n",
            " [0.27642276 1.         0.43312102]\n",
            " [0.27642276 1.         0.43312102]\n",
            " [0.27642276 1.         0.43312102]\n",
            " [0.27642276 1.         0.43312102]\n",
            " [0.27642276 1.         0.43312102]\n",
            " [0.28861789 0.98611111 0.44654088]\n",
            " [0.28861789 0.98611111 0.44654088]\n",
            " [0.28861789 0.95945946 0.44375   ]\n",
            " [0.29268293 0.94736842 0.44720497]\n",
            " [0.31300813 0.95061728 0.47094801]\n",
            " [0.31300813 0.93902439 0.4695122 ]\n",
            " [0.31300813 0.93902439 0.4695122 ]\n",
            " [0.31300813 0.93902439 0.4695122 ]\n",
            " [0.31300813 0.93902439 0.4695122 ]\n",
            " [0.31300813 0.93902439 0.4695122 ]\n",
            " [0.31300813 0.93902439 0.4695122 ]\n",
            " [0.31707317 0.93975904 0.47416413]\n",
            " [0.33333333 0.94252874 0.49249249]\n",
            " [0.33739837 0.94318182 0.49700599]\n",
            " [0.33739837 0.94318182 0.49700599]\n",
            " [0.3495935  0.93478261 0.50887574]\n",
            " [0.3495935  0.93478261 0.50887574]\n",
            " [0.3495935  0.93478261 0.50887574]\n",
            " [0.35365854 0.93548387 0.51327434]\n",
            " [0.37804878 0.93939394 0.53913043]\n",
            " [0.37804878 0.93939394 0.53913043]\n",
            " [0.37804878 0.93939394 0.53913043]\n",
            " [0.37804878 0.93939394 0.53913043]\n",
            " [0.37804878 0.93939394 0.53913043]\n",
            " [0.3902439  0.94117647 0.55172414]\n",
            " [0.41463415 0.94444444 0.57627119]\n",
            " [0.44308943 0.92372881 0.5989011 ]\n",
            " [0.44715447 0.92436975 0.60273973]\n",
            " [0.44715447 0.89430894 0.59620596]\n",
            " [0.44715447 0.88709677 0.59459459]\n",
            " [0.46747967 0.8778626  0.61007958]\n",
            " [0.50406504 0.87943262 0.64082687]\n",
            " [0.51219512 0.85714286 0.64122137]\n",
            " [0.52439024 0.84313725 0.64661654]\n",
            " [0.52439024 0.83766234 0.645     ]\n",
            " [0.54065041 0.83647799 0.65679012]\n",
            " [0.54878049 0.82317073 0.65853659]\n",
            " [0.55691057 0.82035928 0.66343826]\n",
            " [0.58130081 0.8079096  0.67612293]\n",
            " [0.61788618 0.75621891 0.68008949]\n",
            " [0.71138211 0.75431034 0.73221757]\n",
            " [0.72764228 0.72764228 0.72764228]\n",
            " [0.78861789 0.7080292  0.74615385]\n",
            " [0.78861789 0.62580645 0.69784173]\n",
            " [0.80894309 0.57183908 0.67003367]\n",
            " [0.82113821 0.45190157 0.58297258]\n",
            " [0.84146341 0.34214876 0.48648649]\n",
            " [0.85365854 0.19337017 0.31531532]\n",
            " [1.         0.0085786  0.01701127]]\n"
          ],
          "name": "stdout"
        }
      ]
    },
    {
      "cell_type": "code",
      "metadata": {
        "id": "NUv0mGzMYBf8",
        "outputId": "69cf21f5-22ab-47d7-8b19-c6888be460a5",
        "colab": {
          "base_uri": "https://localhost:8080/",
          "height": 51
        }
      },
      "source": [
        "print(maxIndex)\n",
        "print(bestThreshold)"
      ],
      "execution_count": 32,
      "outputs": [
        {
          "output_type": "stream",
          "text": [
            "193\n",
            "-253.2360071762041\n"
          ],
          "name": "stdout"
        }
      ]
    },
    {
      "cell_type": "code",
      "metadata": {
        "id": "ZFGdBwq2_398",
        "outputId": "c59b89a7-d315-43d8-e8b6-563f3a8b9cec",
        "colab": {
          "base_uri": "https://localhost:8080/",
          "height": 34
        }
      },
      "source": [
        "np.mean(train.iloc[:,1])"
      ],
      "execution_count": 33,
      "outputs": [
        {
          "output_type": "execute_result",
          "data": {
            "text/plain": [
              "0.005246755420062154"
            ]
          },
          "metadata": {
            "tags": []
          },
          "execution_count": 33
        }
      ]
    },
    {
      "cell_type": "code",
      "metadata": {
        "id": "3DKQiFDF__hk",
        "outputId": "341ba9f3-83f1-4162-d678-27406ef59797",
        "colab": {
          "base_uri": "https://localhost:8080/",
          "height": 34
        }
      },
      "source": [
        "mu[1]"
      ],
      "execution_count": 34,
      "outputs": [
        {
          "output_type": "execute_result",
          "data": {
            "text/plain": [
              "0.005246755420062154"
            ]
          },
          "metadata": {
            "tags": []
          },
          "execution_count": 34
        }
      ]
    },
    {
      "cell_type": "code",
      "metadata": {
        "id": "1twCbnrmABGt",
        "outputId": "f7d60f83-37de-4f52-f574-a074134b22f3",
        "colab": {
          "base_uri": "https://localhost:8080/",
          "height": 544
        }
      },
      "source": [
        "print(mu)\n",
        "# print(sigma)"
      ],
      "execution_count": 35,
      "outputs": [
        {
          "output_type": "stream",
          "text": [
            "Time      11.252384\n",
            "V1         0.005247\n",
            "V2        -0.005416\n",
            "V3         0.010293\n",
            "V4        -0.008144\n",
            "V5         0.004281\n",
            "V6         0.001813\n",
            "V7         0.010354\n",
            "V8        -0.001103\n",
            "V9         0.006351\n",
            "V10        0.009573\n",
            "V11       -0.007736\n",
            "V12        0.009943\n",
            "V13        0.001084\n",
            "V14        0.010816\n",
            "V15        0.001082\n",
            "V16        0.007216\n",
            "V17        0.012364\n",
            "V18        0.003412\n",
            "V19       -0.001811\n",
            "V20       -0.001092\n",
            "V21       -0.001302\n",
            "V22       -0.000354\n",
            "V23        0.000209\n",
            "V24        0.000288\n",
            "V25        0.000375\n",
            "V26        0.000457\n",
            "V27       -0.000509\n",
            "V28       -0.000119\n",
            "Amount     3.152259\n",
            "dtype: float64\n"
          ],
          "name": "stdout"
        }
      ]
    },
    {
      "cell_type": "code",
      "metadata": {
        "id": "MsLzITjPAOde",
        "outputId": "77b257be-e70f-4896-9956-fbe4efbb7799",
        "colab": {
          "base_uri": "https://localhost:8080/",
          "height": 34
        }
      },
      "source": [
        "#performance on test data\n",
        "#step 3: prediction on test data\n",
        "y_test_pred_raw = model.logpdf(testFeatures)\n",
        "y_pred_test = y_test_pred_raw < bestThreshold\n",
        "\n",
        "f1_score(testLabel, y_pred_test, average = \"binary\")"
      ],
      "execution_count": 36,
      "outputs": [
        {
          "output_type": "execute_result",
          "data": {
            "text/plain": [
              "0.7401574803149606"
            ]
          },
          "metadata": {
            "tags": []
          },
          "execution_count": 36
        }
      ]
    },
    {
      "cell_type": "code",
      "metadata": {
        "id": "3T-cwgMIJrxn",
        "outputId": "ecfc5354-1a7c-41eb-b460-3d250e131ede",
        "colab": {
          "base_uri": "https://localhost:8080/",
          "height": 34
        }
      },
      "source": [
        "y_pred_test"
      ],
      "execution_count": 37,
      "outputs": [
        {
          "output_type": "execute_result",
          "data": {
            "text/plain": [
              "array([False, False, False, ...,  True, False,  True])"
            ]
          },
          "metadata": {
            "tags": []
          },
          "execution_count": 37
        }
      ]
    },
    {
      "cell_type": "code",
      "metadata": {
        "id": "ikDtOJUuWrLU",
        "outputId": "3b69176d-cf78-4e15-d068-0325b5b990ed",
        "colab": {
          "base_uri": "https://localhost:8080/",
          "height": 34
        }
      },
      "source": [
        "#index of predicted outliers in test data\n",
        "predoutliersTest = np.asarray(np.where(y_pred_test))\n",
        "\n",
        "len(predoutliersTest[0])"
      ],
      "execution_count": 38,
      "outputs": [
        {
          "output_type": "execute_result",
          "data": {
            "text/plain": [
              "262"
            ]
          },
          "metadata": {
            "tags": []
          },
          "execution_count": 38
        }
      ]
    },
    {
      "cell_type": "code",
      "metadata": {
        "id": "9jzeUbA9a3FU",
        "outputId": "7adc0d3a-3bc9-4d90-ab6f-7937a31d4be1",
        "colab": {
          "base_uri": "https://localhost:8080/",
          "height": 527
        }
      },
      "source": [
        "predoutliersTest"
      ],
      "execution_count": 39,
      "outputs": [
        {
          "output_type": "execute_result",
          "data": {
            "text/plain": [
              "array([[  248,   437,   605,  1007,  1353,  1451,  1462,  1546,  1988,\n",
              "         2461,  3674,  3928,  4216,  4928,  5144,  5846,  5975,  6022,\n",
              "         6682,  6706,  6858,  7017,  7138,  8267,  8452,  8611,  8677,\n",
              "         8936,  8996,  9207,  9443,  9807,  9988, 10263, 10391, 10657,\n",
              "        11224, 12205, 13539, 13935, 14050, 14573, 14579, 14802, 14869,\n",
              "        15740, 16061, 16888, 17322, 17663, 19352, 19902, 20680, 20800,\n",
              "        21748, 22366, 22552, 22859, 23217, 23456, 23742, 24639, 24819,\n",
              "        25654, 25678, 26035, 27282, 27293, 27314, 27587, 27723, 28117,\n",
              "        28178, 28396, 28432, 28433, 28434, 28435, 28436, 28437, 28438,\n",
              "        28440, 28443, 28444, 28445, 28446, 28447, 28449, 28450, 28453,\n",
              "        28454, 28455, 28456, 28457, 28458, 28459, 28460, 28461, 28462,\n",
              "        28463, 28464, 28465, 28466, 28467, 28468, 28469, 28470, 28471,\n",
              "        28472, 28473, 28475, 28479, 28480, 28481, 28482, 28483, 28484,\n",
              "        28486, 28487, 28490, 28492, 28493, 28494, 28496, 28497, 28498,\n",
              "        28499, 28500, 28501, 28502, 28503, 28505, 28506, 28507, 28508,\n",
              "        28510, 28511, 28512, 28513, 28517, 28521, 28523, 28525, 28526,\n",
              "        28527, 28528, 28529, 28530, 28531, 28532, 28536, 28538, 28539,\n",
              "        28540, 28542, 28543, 28544, 28546, 28547, 28549, 28550, 28551,\n",
              "        28552, 28553, 28554, 28555, 28556, 28558, 28559, 28560, 28561,\n",
              "        28562, 28564, 28565, 28566, 28567, 28568, 28570, 28572, 28574,\n",
              "        28575, 28576, 28577, 28578, 28579, 28580, 28581, 28583, 28584,\n",
              "        28585, 28586, 28588, 28589, 28591, 28592, 28594, 28596, 28598,\n",
              "        28599, 28600, 28601, 28602, 28603, 28604, 28605, 28606, 28607,\n",
              "        28609, 28610, 28612, 28615, 28617, 28618, 28619, 28620, 28621,\n",
              "        28622, 28623, 28625, 28626, 28628, 28629, 28630, 28631, 28632,\n",
              "        28633, 28636, 28637, 28638, 28639, 28640, 28641, 28642, 28643,\n",
              "        28645, 28646, 28647, 28648, 28649, 28650, 28651, 28652, 28653,\n",
              "        28654, 28656, 28657, 28658, 28659, 28660, 28661, 28662, 28663,\n",
              "        28664, 28666, 28669, 28670, 28671, 28672, 28673, 28674, 28675,\n",
              "        28677]])"
            ]
          },
          "metadata": {
            "tags": []
          },
          "execution_count": 39
        }
      ]
    },
    {
      "cell_type": "code",
      "metadata": {
        "id": "m2AUkBtbAMEr",
        "outputId": "d94fbe3b-70af-4b2f-95c7-2f6bbac30222",
        "colab": {
          "base_uri": "https://localhost:8080/",
          "height": 295
        }
      },
      "source": [
        "#outliers identified on test data feature column V1 V2\n",
        "plt.figure()\n",
        "plt.title(\"test_data with outlier flaged red\")\n",
        "plt.xlabel(\"V1\")\n",
        "plt.ylabel(\"V2\")\n",
        "plt.plot(testFeatures.iloc[:, 1],testFeatures.iloc[:,2],\"bx\")#plot v1 v2 as blue cross\n",
        "plt.plot(testFeatures.iloc[predoutliersTest[0],0],testFeatures.iloc[predoutliersTest[0],1],\"ro\")#re-plot the outliers as red dots\n",
        "plt.show()"
      ],
      "execution_count": 40,
      "outputs": [
        {
          "output_type": "display_data",
          "data": {
            "image/png": "[encoded data removed]",
            "text/plain": [
              "<Figure size 432x288 with 1 Axes>"
            ]
          },
          "metadata": {
            "tags": [],
            "needs_background": "light"
          }
        }
      ]
    },
    {
      "cell_type": "code",
      "metadata": {
        "id": "rF8qcwdvXEKQ",
        "outputId": "d131e8d0-be32-4bcf-d1ca-21767b5f2719",
        "colab": {
          "base_uri": "https://localhost:8080/",
          "height": 295
        }
      },
      "source": [
        "#outliers identified on test data feature column V2 V3\n",
        "plt.figure()\n",
        "plt.title(\"test_data with outlier flaged red\")\n",
        "plt.xlabel(\"V2\")\n",
        "plt.ylabel(\"V3\")\n",
        "plt.plot(testFeatures.iloc[:, 2],testFeatures.iloc[:,3],\"bx\")\n",
        "plt.plot(testFeatures.iloc[predoutliersTest[0],0],testFeatures.iloc[predoutliersTest[0],1],\"ro\")\n",
        "plt.show()"
      ],
      "execution_count": 41,
      "outputs": [
        {
          "output_type": "display_data",
          "data": {
            "image/png": "[encoded data removed]",
            "text/plain": [
              "<Figure size 432x288 with 1 Axes>"
            ]
          },
          "metadata": {
            "tags": [],
            "needs_background": "light"
          }
        }
      ]
    },
    {
      "cell_type": "code",
      "metadata": {
        "id": "WNWb0ZCXEzoG",
        "outputId": "4ffdb19d-8445-4daf-c518-9706b45446e5",
        "colab": {
          "base_uri": "https://localhost:8080/",
          "height": 170
        }
      },
      "source": [
        "# generate evaluation metrics\n",
        "print(\"%s: %r\" % (\"accuracy_score is: \", accuracy_score(testLabel, y_pred_test)))\n",
        "print(\"%s: %r\" % (\"roc_auc_score is: \", roc_auc_score(testLabel, y_test_pred_raw)))\n",
        "print(\"%s: %r\" % (\"f1_score is: \", f1_score(testLabel, y_pred_test )))#string to int\n",
        "\n",
        "print (\"confusion_matrix is: \")\n",
        "cm = confusion_matrix(testLabel, y_pred_test)\n",
        "cmDF = pd.DataFrame(cm, columns=['pred_0', 'pred_1'], index=['true_0', 'true_1'])\n",
        "print(cmDF)\n",
        "print('recall =',float(cm[1,1])/(cm[1,0]+cm[1,1]))\n",
        "print('precision =', float(cm[1,1])/(cm[1,1] + cm[0,1]))#1.0\n",
        "\n"
      ],
      "execution_count": 42,
      "outputs": [
        {
          "output_type": "stream",
          "text": [
            "accuracy_score is: : 0.9953971685612665\n",
            "roc_auc_score is: : 0.03898289914947546\n",
            "f1_score is: : 0.7401574803149606\n",
            "confusion_matrix is: \n",
            "        pred_0  pred_1\n",
            "true_0   28358      74\n",
            "true_1      58     188\n",
            "recall = 0.7642276422764228\n",
            "precision = 0.7175572519083969\n"
          ],
          "name": "stdout"
        }
      ]
    },
    {
      "cell_type": "code",
      "metadata": {
        "id": "2XBjlsqlAQwP"
      },
      "source": [
        "#note we can apply supervised learning on this data too, but performance may be different, \n",
        "#can try use the output prob as an additional input feature of the supervised learning model, and see if it improved the model perf"
      ],
      "execution_count": 43,
      "outputs": []
    }
  ]
}